{
 "cells": [
  {
   "cell_type": "code",
   "execution_count": 221,
   "id": "b7000940",
   "metadata": {},
   "outputs": [],
   "source": [
    "import statsmodels.api as sm\n",
    "from scipy import stats \n",
    "import pandas as pd \n",
    "import numpy as np"
   ]
  },
  {
   "cell_type": "markdown",
   "id": "580af335",
   "metadata": {},
   "source": [
    "# Q 1] determine whether there is any significant difference in the diameter of the cutlet between two units"
   ]
  },
  {
   "cell_type": "code",
   "execution_count": 222,
   "id": "367e34a9",
   "metadata": {},
   "outputs": [],
   "source": [
    "# Null hypothesis\n",
    "# H0 : Diameter of cutlets between two units are equal\n",
    "# Alternate hypothesis\n",
    "# H1 : Diameter of cutlets between two units are not equal"
   ]
  },
  {
   "cell_type": "code",
   "execution_count": 223,
   "id": "d045a1c1",
   "metadata": {},
   "outputs": [],
   "source": [
    "# load dataset\n",
    "data1 = pd.read_csv('Cutlets.csv')"
   ]
  },
  {
   "cell_type": "code",
   "execution_count": 224,
   "id": "cca42a0b",
   "metadata": {},
   "outputs": [
    {
     "data": {
      "text/plain": [
       "(35, 2)"
      ]
     },
     "execution_count": 224,
     "metadata": {},
     "output_type": "execute_result"
    }
   ],
   "source": [
    "# dataset have 35 observations/samples\n",
    "# and 2 columns \n",
    "data1.shape"
   ]
  },
  {
   "cell_type": "code",
   "execution_count": 225,
   "id": "a4f65450",
   "metadata": {},
   "outputs": [
    {
     "data": {
      "text/html": [
       "<div>\n",
       "<style scoped>\n",
       "    .dataframe tbody tr th:only-of-type {\n",
       "        vertical-align: middle;\n",
       "    }\n",
       "\n",
       "    .dataframe tbody tr th {\n",
       "        vertical-align: top;\n",
       "    }\n",
       "\n",
       "    .dataframe thead th {\n",
       "        text-align: right;\n",
       "    }\n",
       "</style>\n",
       "<table border=\"1\" class=\"dataframe\">\n",
       "  <thead>\n",
       "    <tr style=\"text-align: right;\">\n",
       "      <th></th>\n",
       "      <th>Unit A</th>\n",
       "      <th>Unit B</th>\n",
       "    </tr>\n",
       "  </thead>\n",
       "  <tbody>\n",
       "    <tr>\n",
       "      <th>0</th>\n",
       "      <td>6.8090</td>\n",
       "      <td>6.7703</td>\n",
       "    </tr>\n",
       "    <tr>\n",
       "      <th>1</th>\n",
       "      <td>6.4376</td>\n",
       "      <td>7.5093</td>\n",
       "    </tr>\n",
       "    <tr>\n",
       "      <th>2</th>\n",
       "      <td>6.9157</td>\n",
       "      <td>6.7300</td>\n",
       "    </tr>\n",
       "    <tr>\n",
       "      <th>3</th>\n",
       "      <td>7.3012</td>\n",
       "      <td>6.7878</td>\n",
       "    </tr>\n",
       "    <tr>\n",
       "      <th>4</th>\n",
       "      <td>7.4488</td>\n",
       "      <td>7.1522</td>\n",
       "    </tr>\n",
       "  </tbody>\n",
       "</table>\n",
       "</div>"
      ],
      "text/plain": [
       "   Unit A  Unit B\n",
       "0  6.8090  6.7703\n",
       "1  6.4376  7.5093\n",
       "2  6.9157  6.7300\n",
       "3  7.3012  6.7878\n",
       "4  7.4488  7.1522"
      ]
     },
     "execution_count": 225,
     "metadata": {},
     "output_type": "execute_result"
    }
   ],
   "source": [
    "data1.head()"
   ]
  },
  {
   "cell_type": "code",
   "execution_count": 226,
   "id": "7b88b334",
   "metadata": {},
   "outputs": [
    {
     "data": {
      "text/plain": [
       "Unit A   -0.123684\n",
       "Unit B   -0.379945\n",
       "dtype: float64"
      ]
     },
     "execution_count": 226,
     "metadata": {},
     "output_type": "execute_result"
    }
   ],
   "source": [
    "# data is normally distributed\n",
    "data1.skew()"
   ]
  },
  {
   "cell_type": "code",
   "execution_count": 227,
   "id": "137d14ba",
   "metadata": {},
   "outputs": [
    {
     "data": {
      "text/plain": [
       "Unit A    0.083179\n",
       "Unit B    0.117924\n",
       "dtype: float64"
      ]
     },
     "execution_count": 227,
     "metadata": {},
     "output_type": "execute_result"
    }
   ],
   "source": [
    "# checking for homoscedasticity\n",
    "data1.var()\n",
    "# variances are considerably same "
   ]
  },
  {
   "cell_type": "code",
   "execution_count": 228,
   "id": "2cbf58ac",
   "metadata": {},
   "outputs": [],
   "source": [
    "# 5% significance_level(alpha) \n",
    "alpha = 0.05"
   ]
  },
  {
   "cell_type": "code",
   "execution_count": 229,
   "id": "a149ec36",
   "metadata": {},
   "outputs": [],
   "source": [
    "# all the required conditions to perform statistical test are satisfied\n",
    "# use independent two sample t-test\n",
    "t_value, p_value, _ = sm.stats.ttest_ind(data1['Unit A'],data1['Unit B'])"
   ]
  },
  {
   "cell_type": "code",
   "execution_count": 230,
   "id": "d29c2c41",
   "metadata": {},
   "outputs": [
    {
     "name": "stdout",
     "output_type": "stream",
     "text": [
      "alpha       : 0.05\n",
      "T statistic : 0.7228688704678063\n",
      "P value     : 0.47223947245995\n",
      "We fail to reject null hypothesis H0\n",
      "\n",
      "we can conclude that:\n",
      "Diameter of cutlets between two units are equal\n"
     ]
    }
   ],
   "source": [
    "print(f'alpha       : {alpha}')\n",
    "print(f'T statistic : {t_value}')\n",
    "print(f'P value     : {p_value}')\n",
    "\n",
    "if p_value > alpha:\n",
    "    print('We fail to reject null hypothesis H0\\n')\n",
    "    print('we can conclude that:\\nDiameter of cutlets between two units are equal')\n",
    "else :\n",
    "    print('We reject null hypothesis H0\\n')\n",
    "    print('we can conclude that:\\nDiameter of cutlets between two units are not equal')"
   ]
  },
  {
   "cell_type": "markdown",
   "id": "d1e9203a",
   "metadata": {},
   "source": [
    "### since p_value(0.47) > alpha(0.05) we can conclude, Diameter of cutlets between two units are equal"
   ]
  },
  {
   "cell_type": "code",
   "execution_count": null,
   "id": "288caf73",
   "metadata": {},
   "outputs": [],
   "source": []
  },
  {
   "cell_type": "markdown",
   "id": "c2ace445",
   "metadata": {},
   "source": [
    "# Q 2] determine whether there is any difference in the average Turn Around Time (TAT) of reports of the laboratories on their preferred list"
   ]
  },
  {
   "cell_type": "code",
   "execution_count": 231,
   "id": "908e433e",
   "metadata": {},
   "outputs": [],
   "source": [
    "# Null hypothesis\n",
    "# H0 : average Turn Around Time (TAT) of reports are equal\n",
    "# Alternate hypothesis \n",
    "# H1 : not all average Turn Around Time (TAT) of reports are equal"
   ]
  },
  {
   "cell_type": "code",
   "execution_count": 232,
   "id": "86528114",
   "metadata": {},
   "outputs": [],
   "source": [
    "# load dataset\n",
    "data2 = pd.read_csv('LabTAT.csv')"
   ]
  },
  {
   "cell_type": "code",
   "execution_count": 233,
   "id": "bf90fa35",
   "metadata": {},
   "outputs": [
    {
     "data": {
      "text/html": [
       "<div>\n",
       "<style scoped>\n",
       "    .dataframe tbody tr th:only-of-type {\n",
       "        vertical-align: middle;\n",
       "    }\n",
       "\n",
       "    .dataframe tbody tr th {\n",
       "        vertical-align: top;\n",
       "    }\n",
       "\n",
       "    .dataframe thead th {\n",
       "        text-align: right;\n",
       "    }\n",
       "</style>\n",
       "<table border=\"1\" class=\"dataframe\">\n",
       "  <thead>\n",
       "    <tr style=\"text-align: right;\">\n",
       "      <th></th>\n",
       "      <th>Laboratory 1</th>\n",
       "      <th>Laboratory 2</th>\n",
       "      <th>Laboratory 3</th>\n",
       "      <th>Laboratory 4</th>\n",
       "    </tr>\n",
       "  </thead>\n",
       "  <tbody>\n",
       "    <tr>\n",
       "      <th>0</th>\n",
       "      <td>185.35</td>\n",
       "      <td>165.53</td>\n",
       "      <td>176.70</td>\n",
       "      <td>166.13</td>\n",
       "    </tr>\n",
       "    <tr>\n",
       "      <th>1</th>\n",
       "      <td>170.49</td>\n",
       "      <td>185.91</td>\n",
       "      <td>198.45</td>\n",
       "      <td>160.79</td>\n",
       "    </tr>\n",
       "    <tr>\n",
       "      <th>2</th>\n",
       "      <td>192.77</td>\n",
       "      <td>194.92</td>\n",
       "      <td>201.23</td>\n",
       "      <td>185.18</td>\n",
       "    </tr>\n",
       "    <tr>\n",
       "      <th>3</th>\n",
       "      <td>177.33</td>\n",
       "      <td>183.00</td>\n",
       "      <td>199.61</td>\n",
       "      <td>176.42</td>\n",
       "    </tr>\n",
       "    <tr>\n",
       "      <th>4</th>\n",
       "      <td>193.41</td>\n",
       "      <td>169.57</td>\n",
       "      <td>204.63</td>\n",
       "      <td>152.60</td>\n",
       "    </tr>\n",
       "  </tbody>\n",
       "</table>\n",
       "</div>"
      ],
      "text/plain": [
       "   Laboratory 1  Laboratory 2  Laboratory 3  Laboratory 4\n",
       "0        185.35        165.53        176.70        166.13\n",
       "1        170.49        185.91        198.45        160.79\n",
       "2        192.77        194.92        201.23        185.18\n",
       "3        177.33        183.00        199.61        176.42\n",
       "4        193.41        169.57        204.63        152.60"
      ]
     },
     "execution_count": 233,
     "metadata": {},
     "output_type": "execute_result"
    }
   ],
   "source": [
    "data2.head()"
   ]
  },
  {
   "cell_type": "code",
   "execution_count": 234,
   "id": "0e890d14",
   "metadata": {},
   "outputs": [
    {
     "data": {
      "text/plain": [
       "(120, 4)"
      ]
     },
     "execution_count": 234,
     "metadata": {},
     "output_type": "execute_result"
    }
   ],
   "source": [
    "# dataset have 120 observations/samples\n",
    "# and 4 columns \n",
    "data2.shape"
   ]
  },
  {
   "cell_type": "code",
   "execution_count": 235,
   "id": "8e63eb86",
   "metadata": {},
   "outputs": [
    {
     "data": {
      "text/plain": [
       "Laboratory 1   -0.177091\n",
       "Laboratory 2    0.040659\n",
       "Laboratory 3    0.133584\n",
       "Laboratory 4   -0.104030\n",
       "dtype: float64"
      ]
     },
     "execution_count": 235,
     "metadata": {},
     "output_type": "execute_result"
    }
   ],
   "source": [
    "# data is normally distributed\n",
    "data2.skew()"
   ]
  },
  {
   "cell_type": "code",
   "execution_count": 236,
   "id": "8bf64651",
   "metadata": {},
   "outputs": [
    {
     "data": {
      "text/plain": [
       "Laboratory 1    173.543568\n",
       "Laboratory 2    223.715251\n",
       "Laboratory 3    273.539607\n",
       "Laboratory 4    227.559632\n",
       "dtype: float64"
      ]
     },
     "execution_count": 236,
     "metadata": {},
     "output_type": "execute_result"
    }
   ],
   "source": [
    "# checking for homoscedasticity\n",
    "data2.var()\n",
    "# variances are considerably same"
   ]
  },
  {
   "cell_type": "code",
   "execution_count": 237,
   "id": "0e44344b",
   "metadata": {},
   "outputs": [],
   "source": [
    "# 5% significance_level(alpha)\n",
    "alpha = 0.05"
   ]
  },
  {
   "cell_type": "code",
   "execution_count": 238,
   "id": "7beca353",
   "metadata": {},
   "outputs": [],
   "source": [
    "# all conditions required to perform statistical test are satisfied\n",
    "# use one_way anova-test \n",
    "f_value, p_value = stats.f_oneway(data2.iloc[:,0],\n",
    "                                      data2.iloc[:,1],\n",
    "                                      data2.iloc[:,2],\n",
    "                                      data2.iloc[:,3])"
   ]
  },
  {
   "cell_type": "code",
   "execution_count": 239,
   "id": "cedfc066",
   "metadata": {},
   "outputs": [
    {
     "name": "stdout",
     "output_type": "stream",
     "text": [
      "alpha       : 0.05\n",
      "T statistic : 118.70421654401437\n",
      "P value     : 2.1156708949992414e-57\n",
      "We reject null hypothesis H0\n",
      "\n",
      "we can conclude that:\n",
      "not all average Turn Around Time (TAT) of reports are equal\n"
     ]
    }
   ],
   "source": [
    "print(f'alpha       : {alpha}')\n",
    "print(f'T statistic : {f_value}')\n",
    "print(f'P value     : {p_value}')\n",
    "\n",
    "if p_value > alpha:\n",
    "    print('We fail to reject null hypothesis H0\\n')\n",
    "    print('we can conclude that:\\naverage Turn Around Time (TAT) of reports are equal')\n",
    "else :\n",
    "    print('We reject null hypothesis H0\\n')\n",
    "    print('we can conclude that:\\nnot all average Turn Around Time (TAT) of reports are equal')"
   ]
  },
  {
   "cell_type": "markdown",
   "id": "baa3e805",
   "metadata": {},
   "source": [
    "### since p_value(2.12e-17) < alpha(0.05), we can conclude, not all average Turn Around Time (TAT) of reports are equal"
   ]
  },
  {
   "cell_type": "code",
   "execution_count": null,
   "id": "4a56273c",
   "metadata": {},
   "outputs": [],
   "source": []
  },
  {
   "cell_type": "markdown",
   "id": "3853d09f",
   "metadata": {},
   "source": [
    "# Q 3] Find if male-female buyer rations are similar across regions"
   ]
  },
  {
   "cell_type": "code",
   "execution_count": 240,
   "id": "0764c6c4",
   "metadata": {},
   "outputs": [],
   "source": [
    "# Null hypothesis\n",
    "# H0 : male-female buyer ration are similar across regions\n",
    "# Alternate hypothesis\n",
    "# H1 : not all male-female buyer ration are similar across regions"
   ]
  },
  {
   "cell_type": "code",
   "execution_count": 241,
   "id": "58a56ace",
   "metadata": {},
   "outputs": [],
   "source": [
    "# load dataset \n",
    "data3 = pd.read_csv('BuyerRatio.csv')"
   ]
  },
  {
   "cell_type": "code",
   "execution_count": 242,
   "id": "666d2a40",
   "metadata": {},
   "outputs": [
    {
     "data": {
      "text/html": [
       "<div>\n",
       "<style scoped>\n",
       "    .dataframe tbody tr th:only-of-type {\n",
       "        vertical-align: middle;\n",
       "    }\n",
       "\n",
       "    .dataframe tbody tr th {\n",
       "        vertical-align: top;\n",
       "    }\n",
       "\n",
       "    .dataframe thead th {\n",
       "        text-align: right;\n",
       "    }\n",
       "</style>\n",
       "<table border=\"1\" class=\"dataframe\">\n",
       "  <thead>\n",
       "    <tr style=\"text-align: right;\">\n",
       "      <th></th>\n",
       "      <th>Observed Values</th>\n",
       "      <th>East</th>\n",
       "      <th>West</th>\n",
       "      <th>North</th>\n",
       "      <th>South</th>\n",
       "    </tr>\n",
       "  </thead>\n",
       "  <tbody>\n",
       "    <tr>\n",
       "      <th>0</th>\n",
       "      <td>Males</td>\n",
       "      <td>50</td>\n",
       "      <td>142</td>\n",
       "      <td>131</td>\n",
       "      <td>70</td>\n",
       "    </tr>\n",
       "    <tr>\n",
       "      <th>1</th>\n",
       "      <td>Females</td>\n",
       "      <td>435</td>\n",
       "      <td>1523</td>\n",
       "      <td>1356</td>\n",
       "      <td>750</td>\n",
       "    </tr>\n",
       "  </tbody>\n",
       "</table>\n",
       "</div>"
      ],
      "text/plain": [
       "  Observed Values  East  West  North  South\n",
       "0           Males    50   142    131     70\n",
       "1         Females   435  1523   1356    750"
      ]
     },
     "execution_count": 242,
     "metadata": {},
     "output_type": "execute_result"
    }
   ],
   "source": [
    "data3"
   ]
  },
  {
   "cell_type": "code",
   "execution_count": 243,
   "id": "30ad1184",
   "metadata": {},
   "outputs": [
    {
     "data": {
      "text/plain": [
       "array([[50, 142, 131, 70],\n",
       "       [435, 1523, 1356, 750]], dtype=object)"
      ]
     },
     "execution_count": 243,
     "metadata": {},
     "output_type": "execute_result"
    }
   ],
   "source": [
    "# slicing data\n",
    "sliceData3 = data3.values[:,1:]\n",
    "sliceData3"
   ]
  },
  {
   "cell_type": "code",
   "execution_count": 244,
   "id": "7498711e",
   "metadata": {},
   "outputs": [],
   "source": [
    "# 5% significance_level(alpha)\n",
    "alpha = 0.05"
   ]
  },
  {
   "cell_type": "code",
   "execution_count": 245,
   "id": "cd825b6e",
   "metadata": {},
   "outputs": [],
   "source": [
    "# use one-way chi-square-test \n",
    "chi2_value, p_value, _,exp = stats.chi2_contingency(sliceData3)"
   ]
  },
  {
   "cell_type": "code",
   "execution_count": 246,
   "id": "b3bb22ee",
   "metadata": {},
   "outputs": [
    {
     "name": "stdout",
     "output_type": "stream",
     "text": [
      "alpha       : 0.05\n",
      "Chi statistic : 118.70421654401437\n",
      "P value     : 0.6603094907091882\n",
      "We fail to reject null hypothesis H0\n",
      "\n",
      "we can conclude that:\n",
      "male-female buyer ration are similar across regions.\n"
     ]
    }
   ],
   "source": [
    "print(f'alpha       : {alpha}')\n",
    "print(f'Chi statistic : {f_value}')\n",
    "print(f'P value     : {p_value}')\n",
    "\n",
    "if p_value > alpha:\n",
    "    print('We fail to reject null hypothesis H0\\n')\n",
    "    print('we can conclude that:\\nmale-female buyer ration are similar across regions.')\n",
    "else :\n",
    "    print('We reject null hypothesis H0\\n')\n",
    "    print('we can conclude that:\\nnot all male-female buyer ration are similar across regions.')"
   ]
  },
  {
   "cell_type": "markdown",
   "id": "89b5d675",
   "metadata": {},
   "source": [
    "### since p_value(0.66) > alpha(0.05), we can conclude, male-female buyer ration are similar across regions"
   ]
  },
  {
   "cell_type": "code",
   "execution_count": null,
   "id": "bcb61508",
   "metadata": {},
   "outputs": [],
   "source": []
  },
  {
   "cell_type": "markdown",
   "id": "45ebf426",
   "metadata": {},
   "source": [
    "# Q 4] check whether the defective %  varies by centre"
   ]
  },
  {
   "cell_type": "code",
   "execution_count": 247,
   "id": "95ae9427",
   "metadata": {},
   "outputs": [],
   "source": [
    "# Null hypothesis \n",
    "# H0 : defect % does not varies by center\n",
    "# Alternate hypothesis\n",
    "# H1 : defect % does varies by center"
   ]
  },
  {
   "cell_type": "code",
   "execution_count": 248,
   "id": "ed119496",
   "metadata": {},
   "outputs": [],
   "source": [
    "# load datset \n",
    "data4 = pd.read_csv('Costomer+OrderForm.csv')"
   ]
  },
  {
   "cell_type": "code",
   "execution_count": 249,
   "id": "bf301978",
   "metadata": {},
   "outputs": [
    {
     "data": {
      "text/html": [
       "<div>\n",
       "<style scoped>\n",
       "    .dataframe tbody tr th:only-of-type {\n",
       "        vertical-align: middle;\n",
       "    }\n",
       "\n",
       "    .dataframe tbody tr th {\n",
       "        vertical-align: top;\n",
       "    }\n",
       "\n",
       "    .dataframe thead th {\n",
       "        text-align: right;\n",
       "    }\n",
       "</style>\n",
       "<table border=\"1\" class=\"dataframe\">\n",
       "  <thead>\n",
       "    <tr style=\"text-align: right;\">\n",
       "      <th></th>\n",
       "      <th>Phillippines</th>\n",
       "      <th>Indonesia</th>\n",
       "      <th>Malta</th>\n",
       "      <th>India</th>\n",
       "    </tr>\n",
       "  </thead>\n",
       "  <tbody>\n",
       "    <tr>\n",
       "      <th>0</th>\n",
       "      <td>Error Free</td>\n",
       "      <td>Error Free</td>\n",
       "      <td>Defective</td>\n",
       "      <td>Error Free</td>\n",
       "    </tr>\n",
       "    <tr>\n",
       "      <th>1</th>\n",
       "      <td>Error Free</td>\n",
       "      <td>Error Free</td>\n",
       "      <td>Error Free</td>\n",
       "      <td>Defective</td>\n",
       "    </tr>\n",
       "    <tr>\n",
       "      <th>2</th>\n",
       "      <td>Error Free</td>\n",
       "      <td>Defective</td>\n",
       "      <td>Defective</td>\n",
       "      <td>Error Free</td>\n",
       "    </tr>\n",
       "    <tr>\n",
       "      <th>3</th>\n",
       "      <td>Error Free</td>\n",
       "      <td>Error Free</td>\n",
       "      <td>Error Free</td>\n",
       "      <td>Error Free</td>\n",
       "    </tr>\n",
       "    <tr>\n",
       "      <th>4</th>\n",
       "      <td>Error Free</td>\n",
       "      <td>Error Free</td>\n",
       "      <td>Defective</td>\n",
       "      <td>Error Free</td>\n",
       "    </tr>\n",
       "  </tbody>\n",
       "</table>\n",
       "</div>"
      ],
      "text/plain": [
       "  Phillippines   Indonesia       Malta       India\n",
       "0   Error Free  Error Free   Defective  Error Free\n",
       "1   Error Free  Error Free  Error Free   Defective\n",
       "2   Error Free   Defective   Defective  Error Free\n",
       "3   Error Free  Error Free  Error Free  Error Free\n",
       "4   Error Free  Error Free   Defective  Error Free"
      ]
     },
     "execution_count": 249,
     "metadata": {},
     "output_type": "execute_result"
    }
   ],
   "source": [
    "data4.head()"
   ]
  },
  {
   "cell_type": "code",
   "execution_count": 250,
   "id": "3a6b31cf",
   "metadata": {},
   "outputs": [
    {
     "data": {
      "text/plain": [
       "(300, 4)"
      ]
     },
     "execution_count": 250,
     "metadata": {},
     "output_type": "execute_result"
    }
   ],
   "source": [
    "# dataset have 300 observations/samples\n",
    "# and 4 columns \n",
    "data4.shape"
   ]
  },
  {
   "cell_type": "code",
   "execution_count": 251,
   "id": "8b0a33fa",
   "metadata": {},
   "outputs": [
    {
     "data": {
      "text/plain": [
       "Phillippines    object\n",
       "Indonesia       object\n",
       "Malta           object\n",
       "India           object\n",
       "dtype: object"
      ]
     },
     "execution_count": 251,
     "metadata": {},
     "output_type": "execute_result"
    }
   ],
   "source": [
    "# dataset contains categorical data\n",
    "data4.dtypes"
   ]
  },
  {
   "cell_type": "code",
   "execution_count": 252,
   "id": "86d91660",
   "metadata": {},
   "outputs": [
    {
     "data": {
      "text/plain": [
       "Phillippines    0\n",
       "Indonesia       0\n",
       "Malta           0\n",
       "India           0\n",
       "dtype: int64"
      ]
     },
     "execution_count": 252,
     "metadata": {},
     "output_type": "execute_result"
    }
   ],
   "source": [
    "# dataset contains no null values\n",
    "data4.isnull().sum()"
   ]
  },
  {
   "cell_type": "code",
   "execution_count": 253,
   "id": "45283b79",
   "metadata": {},
   "outputs": [],
   "source": [
    "# calculating frquencies of errorFree customer forms\n",
    "# and defective cutsomer forms \n",
    "errorFree = []\n",
    "defective = []\n",
    "for i in range(len(data4.columns)):\n",
    "    x = data4.iloc[:,i].value_counts()\n",
    "    errorFree.append(x[0])\n",
    "    defective.append(x[1])\n",
    "freqArray = np.array([errorFree,defective])"
   ]
  },
  {
   "cell_type": "code",
   "execution_count": 254,
   "id": "1468c80a",
   "metadata": {},
   "outputs": [
    {
     "data": {
      "text/plain": [
       "array([[271, 267, 269, 280],\n",
       "       [ 29,  33,  31,  20]], dtype=int64)"
      ]
     },
     "execution_count": 254,
     "metadata": {},
     "output_type": "execute_result"
    }
   ],
   "source": [
    "freqArray"
   ]
  },
  {
   "cell_type": "code",
   "execution_count": 255,
   "id": "2d398c00",
   "metadata": {},
   "outputs": [],
   "source": [
    "# 5% significance_level(alpha)\n",
    "alpha = 0.05"
   ]
  },
  {
   "cell_type": "code",
   "execution_count": 256,
   "id": "0baec2bd",
   "metadata": {},
   "outputs": [],
   "source": [
    "# if percentage of defective order forms varies \n",
    "# then ration of errorFree&defective order forms \n",
    "# will also vary \n",
    "# use one-way chi-squared \n",
    "chi2_value, p_value,_,exp = stats.chi2_contingency(freqArray)"
   ]
  },
  {
   "cell_type": "code",
   "execution_count": 257,
   "id": "800a439c",
   "metadata": {},
   "outputs": [
    {
     "name": "stdout",
     "output_type": "stream",
     "text": [
      "alpha       : 0.05\n",
      "Chi statistic : 3.858960685820355\n",
      "P value     : 0.2771020991233135\n",
      "We fail to reject null hypothesis H0\n",
      "\n",
      "we can conclude that:\n",
      "defect % does not vary by center\n"
     ]
    }
   ],
   "source": [
    "print(f'alpha       : {alpha}')\n",
    "print(f'Chi statistic : {chi2_value}')\n",
    "print(f'P value     : {p_value}')\n",
    "\n",
    "if p_value > alpha:\n",
    "    print('We fail to reject null hypothesis H0\\n')\n",
    "    print('we can conclude that:\\ndefect % does not vary by center')\n",
    "else :\n",
    "    print('We reject null hypothesis H0\\n')\n",
    "    print('we can conclude that:\\ndefect % varies by center')"
   ]
  },
  {
   "cell_type": "markdown",
   "id": "5c91d1dc",
   "metadata": {},
   "source": [
    "### since p_value(0.28) > alpha(0.05), we can conclude, defect % does not vary by center"
   ]
  },
  {
   "cell_type": "code",
   "execution_count": null,
   "id": "227e54d9",
   "metadata": {},
   "outputs": [],
   "source": []
  }
 ],
 "metadata": {
  "kernelspec": {
   "display_name": "Python 3 (ipykernel)",
   "language": "python",
   "name": "python3"
  },
  "language_info": {
   "codemirror_mode": {
    "name": "ipython",
    "version": 3
   },
   "file_extension": ".py",
   "mimetype": "text/x-python",
   "name": "python",
   "nbconvert_exporter": "python",
   "pygments_lexer": "ipython3",
   "version": "3.10.6"
  }
 },
 "nbformat": 4,
 "nbformat_minor": 5
}
