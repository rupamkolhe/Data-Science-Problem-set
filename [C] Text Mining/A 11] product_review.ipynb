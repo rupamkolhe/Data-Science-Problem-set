{
 "cells": [
  {
   "cell_type": "code",
   "execution_count": 264,
   "id": "568ba66a",
   "metadata": {},
   "outputs": [],
   "source": [
    "from sklearn.feature_extraction.text import TfidfVectorizer\n",
    "from keras.wrappers.scikit_learn import KerasClassifier\n",
    "from keras.layers import Dropout, Dense\n",
    "from keras.models import Sequential \n",
    "from keras.optimizers import Adam \n",
    "import matplotlib.pyplot as plt \n",
    "import seaborn as sns \n",
    "from nltk.corpus import stopwords\n",
    "from nltk.corpus import wordnet \n",
    "import tensorflow as tf \n",
    "import pandas as pd \n",
    "import numpy as np \n",
    "import string\n",
    "import random\n",
    "from bs4 import BeautifulSoup\n",
    "import requests\n",
    "import keras \n",
    "import nltk \n",
    "import re \n",
    "import os \n",
    "sns.set_style('darkgrid')"
   ]
  },
  {
   "cell_type": "code",
   "execution_count": 265,
   "id": "baae22ba",
   "metadata": {},
   "outputs": [],
   "source": [
    "def reproduce():\n",
    "    os.environ['PYTHONHASHSEED'] = str(42)\n",
    "    random.seed(42)\n",
    "    np.random.seed(42)\n",
    "    tf.random.set_seed(42)"
   ]
  },
  {
   "cell_type": "code",
   "execution_count": null,
   "id": "7e7296fc",
   "metadata": {},
   "outputs": [],
   "source": [
    "# scraping 'steve job by walter issacson' book reviews\n",
    "session = requests.Session()\n",
    "order = 'NEGATIVE_FIRST'\n",
    "# must be > 1\n",
    "numOfPages = 81\n",
    "\n",
    "userReview = []\n",
    "\n",
    "# iterate over each page \n",
    "for page in range(1,numOfPages+1):\n",
    "    url = f'https://www.flipkart.com/steve-jobs/product-reviews/itmfc3dyprnf6ytz?pid=9780349140438&lid=LSTBOK9780349140438TZCNOW&aid=overall&certifiedBuyer=false&sortOrder={order}&page={page}'\n",
    "    data = session.get(url).text\n",
    "    soup = BeautifulSoup(data,'lxml')\n",
    "    reviews = soup.find_all('div',{'class':'_1AtVbE col-12-12'})\n",
    "    if reviews:\n",
    "        for review in reviews[4:-1]:\n",
    "            gr = review.find('div',{'class':''})\n",
    "            if gr:\n",
    "                if gr.span:\n",
    "                    if gr.span.attrs:\n",
    "                        if gr.div:\n",
    "                            rev = nltk.sent_tokenize(gr.div.text)\n",
    "                            full = '_1H-bmy' in gr.span.attrs['class']\n",
    "                            half = '_1BWGvX' in gr.span.attrs['class']\n",
    "                            # it True -> remove last sentence of review\n",
    "                            # bocoz of 'READ MORE'\n",
    "                            log = half and (half or full)\n",
    "                            # get rating\n",
    "                            rate = review.findChildren('div')[4].text\n",
    "                            if rev:\n",
    "                                if rate:\n",
    "                                    if log:\n",
    "                                        if len(rev) > 1:\n",
    "                                            userReview.append([' '.join(rev[:-1]).strip(),\n",
    "                                                               float(rate)])\n",
    "                                        else:\n",
    "                                            pass\n",
    "                                    else:\n",
    "                                        userReview.append([' '.join(rev).strip(),\n",
    "                                                           float(rate)])       \n",
    "    else:\n",
    "        print('No Reviews')\n",
    "session.close()\n",
    "\n",
    "df = pd.DataFrame(userReview,columns=['review','rating'])\n",
    "\n",
    "try:\n",
    "    pd.DataFrame(userReview,columns=['review','rating']).to_csv('stevejobs.csv',\n",
    "                                                                index=False)\n",
    "    print('Data Succesfully Saved !')\n",
    "    print('In \"stevejobs.csv\" file ')\n",
    "except Exception as error:\n",
    "    print(error)"
   ]
  },
  {
   "cell_type": "code",
   "execution_count": 266,
   "id": "4feb8395",
   "metadata": {},
   "outputs": [],
   "source": [
    "# load stopwords\n",
    "stop_words = set(stopwords.words('english'))"
   ]
  },
  {
   "cell_type": "code",
   "execution_count": 267,
   "id": "e7cd1c27",
   "metadata": {},
   "outputs": [
    {
     "data": {
      "text/html": [
       "<div>\n",
       "<style scoped>\n",
       "    .dataframe tbody tr th:only-of-type {\n",
       "        vertical-align: middle;\n",
       "    }\n",
       "\n",
       "    .dataframe tbody tr th {\n",
       "        vertical-align: top;\n",
       "    }\n",
       "\n",
       "    .dataframe thead th {\n",
       "        text-align: right;\n",
       "    }\n",
       "</style>\n",
       "<table border=\"1\" class=\"dataframe\">\n",
       "  <thead>\n",
       "    <tr style=\"text-align: right;\">\n",
       "      <th></th>\n",
       "      <th>review</th>\n",
       "      <th>rating</th>\n",
       "    </tr>\n",
       "  </thead>\n",
       "  <tbody>\n",
       "    <tr>\n",
       "      <th>0</th>\n",
       "      <td>Seems to be a first copy . Cause it's cover pa...</td>\n",
       "      <td>1</td>\n",
       "    </tr>\n",
       "    <tr>\n",
       "      <th>1</th>\n",
       "      <td>I want to bring buyers attention that Flipkart...</td>\n",
       "      <td>1</td>\n",
       "    </tr>\n",
       "    <tr>\n",
       "      <th>2</th>\n",
       "      <td>The book wasn't has expected. It was like worn...</td>\n",
       "      <td>1</td>\n",
       "    </tr>\n",
       "    <tr>\n",
       "      <th>3</th>\n",
       "      <td>Ordered steve jobs writer is issac walter and ...</td>\n",
       "      <td>1</td>\n",
       "    </tr>\n",
       "    <tr>\n",
       "      <th>4</th>\n",
       "      <td>I know Price low but book quility is also Low</td>\n",
       "      <td>1</td>\n",
       "    </tr>\n",
       "    <tr>\n",
       "      <th>5</th>\n",
       "      <td>Please don't buy this book this is very cheap ...</td>\n",
       "      <td>1</td>\n",
       "    </tr>\n",
       "    <tr>\n",
       "      <th>6</th>\n",
       "      <td>This book is not the original version. The con...</td>\n",
       "      <td>1</td>\n",
       "    </tr>\n",
       "    <tr>\n",
       "      <th>7</th>\n",
       "      <td>Quality of paper is poor</td>\n",
       "      <td>1</td>\n",
       "    </tr>\n",
       "    <tr>\n",
       "      <th>8</th>\n",
       "      <td>Pages come out like hell</td>\n",
       "      <td>1</td>\n",
       "    </tr>\n",
       "    <tr>\n",
       "      <th>9</th>\n",
       "      <td>Paper quality is very low 😭😭</td>\n",
       "      <td>1</td>\n",
       "    </tr>\n",
       "  </tbody>\n",
       "</table>\n",
       "</div>"
      ],
      "text/plain": [
       "                                              review  rating\n",
       "0  Seems to be a first copy . Cause it's cover pa...       1\n",
       "1  I want to bring buyers attention that Flipkart...       1\n",
       "2  The book wasn't has expected. It was like worn...       1\n",
       "3  Ordered steve jobs writer is issac walter and ...       1\n",
       "4      I know Price low but book quility is also Low       1\n",
       "5  Please don't buy this book this is very cheap ...       1\n",
       "6  This book is not the original version. The con...       1\n",
       "7                           Quality of paper is poor       1\n",
       "8                           Pages come out like hell       1\n",
       "9                       Paper quality is very low 😭😭       1"
      ]
     },
     "execution_count": 267,
     "metadata": {},
     "output_type": "execute_result"
    }
   ],
   "source": [
    "# load dataset \n",
    "data = pd.read_csv('stevejobs.csv')\n",
    "data.head(10)"
   ]
  },
  {
   "cell_type": "code",
   "execution_count": 268,
   "id": "84fb6774",
   "metadata": {},
   "outputs": [
    {
     "name": "stdout",
     "output_type": "stream",
     "text": [
      "No. of duplicated rows : 24\n",
      "           review  rating\n",
      "26    Bad quality       1\n",
      "75    Bad quality       1\n",
      "159          Good       3\n",
      "281          Good       4\n",
      "285          nice       4\n",
      "301     Nice book       4\n",
      "313          Good       4\n",
      "317          Good       4\n",
      "565     Very nice       5\n",
      "582          Nice       5\n",
      "644  Awesome book       5\n",
      "648     Very nice       5\n",
      "661    Great book       5\n",
      "662     Good book       5\n",
      "668     Good book       5\n",
      "704          nice       5\n",
      "714    Great book       5\n",
      "729     nice book       5\n",
      "731     Nice book       5\n",
      "735          nice       5\n",
      "737          nice       5\n",
      "747          good       5\n",
      "763       Awesome       5\n",
      "776       awesome       5\n"
     ]
    }
   ],
   "source": [
    "# check for duplicate rows \n",
    "if data.duplicated().sum():\n",
    "    print(f'No. of duplicated rows : {data.duplicated().sum()}')\n",
    "    print(data[data.duplicated()])\n",
    "else:\n",
    "    print('duplicates already dropped')"
   ]
  },
  {
   "cell_type": "code",
   "execution_count": 269,
   "id": "834bccda",
   "metadata": {},
   "outputs": [
    {
     "name": "stdout",
     "output_type": "stream",
     "text": [
      "No. of duplicate rows : 0\n"
     ]
    }
   ],
   "source": [
    "# drop duplicated rows \n",
    "data.drop_duplicates(inplace=True)\n",
    "print(f'No. of duplicate rows : {data.duplicated().sum()}')"
   ]
  },
  {
   "cell_type": "code",
   "execution_count": 270,
   "id": "bb93abb5",
   "metadata": {},
   "outputs": [],
   "source": [
    "# text cleaning \n",
    "def clean_text(text):\n",
    "    # remove tags if present\n",
    "    text = re.sub('@[^\\s^:]*','',text)\n",
    "    # remove links if present \n",
    "    text = re.sub('(https|http)://[.\\w/]*','',text)\n",
    "    # remove numbers \n",
    "    text = re.sub('[0-9]','',text).strip()\n",
    "    text = text.lower()\n",
    "    # removing punctuations \n",
    "    text = text.translate(str.maketrans('','',string.punctuation))\n",
    "    # tokenize text \n",
    "    tokens = nltk.word_tokenize(text)\n",
    "    # removing stopwords \n",
    "    text = ' '.join([x.strip() for x in tokens if x not in stop_words])\n",
    "    # initialize lemmatizer \n",
    "    lemmatizer = nltk.stem.WordNetLemmatizer()\n",
    "    lemma = []\n",
    "    for word in nltk.word_tokenize(text):\n",
    "        pos = nltk.pos_tag([word])[0][-1]\n",
    "        if pos.startswith('V'):\n",
    "            lemm_tag = wordnet.VERB\n",
    "        elif pos.startswith('N'):\n",
    "            lemm_tag = wordnet.NOUN\n",
    "        else:\n",
    "            lemm_tag = wordnet.ADJ\n",
    "        lemma.append(lemmatizer.lemmatize(word,lemm_tag))\n",
    "    text = ' '.join(lemma)\n",
    "    return text.strip()"
   ]
  },
  {
   "cell_type": "code",
   "execution_count": 271,
   "id": "c13d74db",
   "metadata": {},
   "outputs": [
    {
     "data": {
      "text/html": [
       "<div>\n",
       "<style scoped>\n",
       "    .dataframe tbody tr th:only-of-type {\n",
       "        vertical-align: middle;\n",
       "    }\n",
       "\n",
       "    .dataframe tbody tr th {\n",
       "        vertical-align: top;\n",
       "    }\n",
       "\n",
       "    .dataframe thead th {\n",
       "        text-align: right;\n",
       "    }\n",
       "</style>\n",
       "<table border=\"1\" class=\"dataframe\">\n",
       "  <thead>\n",
       "    <tr style=\"text-align: right;\">\n",
       "      <th></th>\n",
       "      <th>review</th>\n",
       "      <th>rating</th>\n",
       "      <th>cleaned_review</th>\n",
       "      <th>label</th>\n",
       "    </tr>\n",
       "  </thead>\n",
       "  <tbody>\n",
       "    <tr>\n",
       "      <th>0</th>\n",
       "      <td>Seems to be a first copy . Cause it's cover pa...</td>\n",
       "      <td>1</td>\n",
       "      <td>seem first copy cause cover page roughly finis...</td>\n",
       "      <td>Terrible</td>\n",
       "    </tr>\n",
       "    <tr>\n",
       "      <th>1</th>\n",
       "      <td>I want to bring buyers attention that Flipkart...</td>\n",
       "      <td>1</td>\n",
       "      <td>want bring buyer attention flipkart fall low l...</td>\n",
       "      <td>Terrible</td>\n",
       "    </tr>\n",
       "    <tr>\n",
       "      <th>2</th>\n",
       "      <td>The book wasn't has expected. It was like worn...</td>\n",
       "      <td>1</td>\n",
       "      <td>book wasnt expect like worn condition</td>\n",
       "      <td>Terrible</td>\n",
       "    </tr>\n",
       "    <tr>\n",
       "      <th>3</th>\n",
       "      <td>Ordered steve jobs writer is issac walter and ...</td>\n",
       "      <td>1</td>\n",
       "      <td>order steve job writer issac walter consecutiv...</td>\n",
       "      <td>Terrible</td>\n",
       "    </tr>\n",
       "    <tr>\n",
       "      <th>4</th>\n",
       "      <td>I know Price low but book quility is also Low</td>\n",
       "      <td>1</td>\n",
       "      <td>know price low book quility also low</td>\n",
       "      <td>Terrible</td>\n",
       "    </tr>\n",
       "  </tbody>\n",
       "</table>\n",
       "</div>"
      ],
      "text/plain": [
       "                                              review  rating  \\\n",
       "0  Seems to be a first copy . Cause it's cover pa...       1   \n",
       "1  I want to bring buyers attention that Flipkart...       1   \n",
       "2  The book wasn't has expected. It was like worn...       1   \n",
       "3  Ordered steve jobs writer is issac walter and ...       1   \n",
       "4      I know Price low but book quility is also Low       1   \n",
       "\n",
       "                                      cleaned_review     label  \n",
       "0  seem first copy cause cover page roughly finis...  Terrible  \n",
       "1  want bring buyer attention flipkart fall low l...  Terrible  \n",
       "2              book wasnt expect like worn condition  Terrible  \n",
       "3  order steve job writer issac walter consecutiv...  Terrible  \n",
       "4               know price low book quility also low  Terrible  "
      ]
     },
     "execution_count": 271,
     "metadata": {},
     "output_type": "execute_result"
    }
   ],
   "source": [
    "# adding cleaned review text in 'cleaned_review' column\n",
    "data['cleaned_review'] = data.review.apply(clean_text)\n",
    "# reset index\n",
    "data.reset_index(drop=True,inplace=True)\n",
    "# add 'label' column\n",
    "data['label'] = data.rating.apply(lambda x: 'Fantastic' if (x == 5) else 'Very Good' if (x == 4) else 'Not Bad' if (x == 3) else 'Bad' if (x == 2) else 'Terrible')\n",
    "data.head()"
   ]
  },
  {
   "cell_type": "code",
   "execution_count": 272,
   "id": "ec33a155",
   "metadata": {},
   "outputs": [
    {
     "name": "stdout",
     "output_type": "stream",
     "text": [
      "No. of empty rows in column \"cleaned_review\" : 0\n"
     ]
    }
   ],
   "source": [
    "print(f'No. of empty rows in column \"cleaned_review\" : {(data[\"cleaned_review\"] == \"\").sum()}')"
   ]
  },
  {
   "cell_type": "code",
   "execution_count": 273,
   "id": "4140bb2d",
   "metadata": {},
   "outputs": [
    {
     "data": {
      "image/png": "[encoded data removed]",
      "text/plain": [
       "<Figure size 1500x800 with 1 Axes>"
      ]
     },
     "metadata": {},
     "output_type": "display_data"
    }
   ],
   "source": [
    "# visualizing word frequency \n",
    "freq = nltk.FreqDist(nltk.word_tokenize(' '.join(data.cleaned_review.values)))\n",
    "plt.figure(figsize=(15,8))\n",
    "sns.barplot(x=np.array(freq.most_common(10))[:,0],\n",
    "            y=np.array(freq.most_common(10))[:,1].astype('float'))\n",
    "plt.title('Top 10 most common words in reviews',\n",
    "          fontsize=20)\n",
    "plt.show()"
   ]
  },
  {
   "cell_type": "code",
   "execution_count": 274,
   "id": "48746662",
   "metadata": {},
   "outputs": [
    {
     "data": {
      "image/png": "[encoded data removed]",
      "text/plain": [
       "<Figure size 640x480 with 1 Axes>"
      ]
     },
     "metadata": {},
     "output_type": "display_data"
    }
   ],
   "source": [
    "# overall customer review for book \n",
    "# 'steve jobs by walter issacson' is fantastic \n",
    "# visualizing ratings\n",
    "color = ['green','green','red','blue','red']\n",
    "plt.bar(data.label.value_counts().index,\n",
    "        height=data.label.value_counts().values*100/(data.label.value_counts().values.sum()),\n",
    "        color=color,alpha=0.7)\n",
    "plt.ylabel('% reviews')\n",
    "plt.xlabel('Customer review')\n",
    "plt.title('visualize customer review')\n",
    "plt.show()"
   ]
  },
  {
   "cell_type": "code",
   "execution_count": 275,
   "id": "a020636a",
   "metadata": {},
   "outputs": [
    {
     "data": {
      "text/html": [
       "<div>\n",
       "<style scoped>\n",
       "    .dataframe tbody tr th:only-of-type {\n",
       "        vertical-align: middle;\n",
       "    }\n",
       "\n",
       "    .dataframe tbody tr th {\n",
       "        vertical-align: top;\n",
       "    }\n",
       "\n",
       "    .dataframe thead th {\n",
       "        text-align: right;\n",
       "    }\n",
       "</style>\n",
       "<table border=\"1\" class=\"dataframe\">\n",
       "  <thead>\n",
       "    <tr style=\"text-align: right;\">\n",
       "      <th></th>\n",
       "      <th>cleaned_review</th>\n",
       "    </tr>\n",
       "  </thead>\n",
       "  <tbody>\n",
       "    <tr>\n",
       "      <th>0</th>\n",
       "      <td>seem first copy cause cover page roughly finis...</td>\n",
       "    </tr>\n",
       "    <tr>\n",
       "      <th>1</th>\n",
       "      <td>want bring buyer attention flipkart fall low l...</td>\n",
       "    </tr>\n",
       "    <tr>\n",
       "      <th>2</th>\n",
       "      <td>book wasnt expect like worn condition</td>\n",
       "    </tr>\n",
       "    <tr>\n",
       "      <th>3</th>\n",
       "      <td>order steve job writer issac walter consecutiv...</td>\n",
       "    </tr>\n",
       "    <tr>\n",
       "      <th>4</th>\n",
       "      <td>know price low book quility also low</td>\n",
       "    </tr>\n",
       "  </tbody>\n",
       "</table>\n",
       "</div>"
      ],
      "text/plain": [
       "                                      cleaned_review\n",
       "0  seem first copy cause cover page roughly finis...\n",
       "1  want bring buyer attention flipkart fall low l...\n",
       "2              book wasnt expect like worn condition\n",
       "3  order steve job writer issac walter consecutiv...\n",
       "4               know price low book quility also low"
      ]
     },
     "execution_count": 275,
     "metadata": {},
     "output_type": "execute_result"
    }
   ],
   "source": [
    "# features \n",
    "features = data[['cleaned_review']]\n",
    "features.head()"
   ]
  },
  {
   "cell_type": "code",
   "execution_count": 276,
   "id": "0e954140",
   "metadata": {},
   "outputs": [
    {
     "data": {
      "text/html": [
       "<div>\n",
       "<style scoped>\n",
       "    .dataframe tbody tr th:only-of-type {\n",
       "        vertical-align: middle;\n",
       "    }\n",
       "\n",
       "    .dataframe tbody tr th {\n",
       "        vertical-align: top;\n",
       "    }\n",
       "\n",
       "    .dataframe thead th {\n",
       "        text-align: right;\n",
       "    }\n",
       "</style>\n",
       "<table border=\"1\" class=\"dataframe\">\n",
       "  <thead>\n",
       "    <tr style=\"text-align: right;\">\n",
       "      <th></th>\n",
       "      <th>Bad</th>\n",
       "      <th>Fantastic</th>\n",
       "      <th>Not Bad</th>\n",
       "      <th>Terrible</th>\n",
       "      <th>Very Good</th>\n",
       "    </tr>\n",
       "  </thead>\n",
       "  <tbody>\n",
       "    <tr>\n",
       "      <th>0</th>\n",
       "      <td>0</td>\n",
       "      <td>0</td>\n",
       "      <td>0</td>\n",
       "      <td>1</td>\n",
       "      <td>0</td>\n",
       "    </tr>\n",
       "    <tr>\n",
       "      <th>1</th>\n",
       "      <td>0</td>\n",
       "      <td>0</td>\n",
       "      <td>0</td>\n",
       "      <td>1</td>\n",
       "      <td>0</td>\n",
       "    </tr>\n",
       "    <tr>\n",
       "      <th>2</th>\n",
       "      <td>0</td>\n",
       "      <td>0</td>\n",
       "      <td>0</td>\n",
       "      <td>1</td>\n",
       "      <td>0</td>\n",
       "    </tr>\n",
       "    <tr>\n",
       "      <th>3</th>\n",
       "      <td>0</td>\n",
       "      <td>0</td>\n",
       "      <td>0</td>\n",
       "      <td>1</td>\n",
       "      <td>0</td>\n",
       "    </tr>\n",
       "    <tr>\n",
       "      <th>4</th>\n",
       "      <td>0</td>\n",
       "      <td>0</td>\n",
       "      <td>0</td>\n",
       "      <td>1</td>\n",
       "      <td>0</td>\n",
       "    </tr>\n",
       "  </tbody>\n",
       "</table>\n",
       "</div>"
      ],
      "text/plain": [
       "   Bad  Fantastic  Not Bad  Terrible  Very Good\n",
       "0    0          0        0         1          0\n",
       "1    0          0        0         1          0\n",
       "2    0          0        0         1          0\n",
       "3    0          0        0         1          0\n",
       "4    0          0        0         1          0"
      ]
     },
     "execution_count": 276,
     "metadata": {},
     "output_type": "execute_result"
    }
   ],
   "source": [
    "# targets \n",
    "target = pd.get_dummies(data.label)\n",
    "target.head()"
   ]
  },
  {
   "cell_type": "code",
   "execution_count": 277,
   "id": "96081701",
   "metadata": {},
   "outputs": [],
   "source": [
    "# word vectorization \n",
    "# initializing TfidVectorizer\n",
    "vec = TfidfVectorizer(min_df=0.0,max_df=1.0,ngram_range=(1,1))\n",
    "vec.fit(features.cleaned_review.values)\n",
    "feature_vect = vec.transform(features.cleaned_review.values).toarray()"
   ]
  },
  {
   "cell_type": "code",
   "execution_count": 278,
   "id": "42283d2b",
   "metadata": {
    "scrolled": true
   },
   "outputs": [
    {
     "name": "stdout",
     "output_type": "stream",
     "text": [
      "Epoch 1/10\n",
      "24/24 [==============================] - 0s 2ms/step - loss: 0.4436 - accuracy: 0.5482\n",
      "Epoch 2/10\n",
      "24/24 [==============================] - 0s 2ms/step - loss: 0.3219 - accuracy: 0.6129\n",
      "Epoch 3/10\n",
      "24/24 [==============================] - 0s 2ms/step - loss: 0.2491 - accuracy: 0.7015\n",
      "Epoch 4/10\n",
      "24/24 [==============================] - 0s 2ms/step - loss: 0.1844 - accuracy: 0.7952\n",
      "Epoch 5/10\n",
      "24/24 [==============================] - 0s 2ms/step - loss: 0.1327 - accuracy: 0.8626\n",
      "Epoch 6/10\n",
      "24/24 [==============================] - 0s 2ms/step - loss: 0.1003 - accuracy: 0.8956\n",
      "Epoch 7/10\n",
      "24/24 [==============================] - 0s 2ms/step - loss: 0.0837 - accuracy: 0.9089\n",
      "Epoch 8/10\n",
      "24/24 [==============================] - 0s 2ms/step - loss: 0.0701 - accuracy: 0.9353\n",
      "Epoch 9/10\n",
      "24/24 [==============================] - 0s 2ms/step - loss: 0.0668 - accuracy: 0.9432\n",
      "Epoch 10/10\n",
      "24/24 [==============================] - 0s 2ms/step - loss: 0.0616 - accuracy: 0.9472\n"
     ]
    },
    {
     "data": {
      "text/plain": [
       "<keras.callbacks.History at 0x238d472a320>"
      ]
     },
     "execution_count": 278,
     "metadata": {},
     "output_type": "execute_result"
    }
   ],
   "source": [
    "# set random state\n",
    "reproduce()\n",
    "# training Neural Network\n",
    "model = Sequential()\n",
    "model.add(Dense(10,input_dim=2437,\n",
    "                kernel_initializer='uniform',\n",
    "                activation='relu'))\n",
    "model.add(Dense(5,kernel_initializer='uniform',\n",
    "                activation='sigmoid'))\n",
    "adam = Adam(learning_rate=0.05)\n",
    "model.compile(loss='binary_crossentropy',\n",
    "              optimizer=adam,metrics=['accuracy'])\n",
    "model.fit(feature_vect,target.values.astype('float'),\n",
    "          epochs=10)"
   ]
  },
  {
   "cell_type": "code",
   "execution_count": 279,
   "id": "734c7682",
   "metadata": {},
   "outputs": [
    {
     "name": "stdout",
     "output_type": "stream",
     "text": [
      "24/24 [==============================] - 0s 1ms/step\n"
     ]
    }
   ],
   "source": [
    "# making predictions \n",
    "np.set_printoptions(suppress=True)\n",
    "pred = model.predict(feature_vect)"
   ]
  },
  {
   "cell_type": "code",
   "execution_count": 280,
   "id": "2187eea1",
   "metadata": {},
   "outputs": [
    {
     "data": {
      "text/html": [
       "<div>\n",
       "<style scoped>\n",
       "    .dataframe tbody tr th:only-of-type {\n",
       "        vertical-align: middle;\n",
       "    }\n",
       "\n",
       "    .dataframe tbody tr th {\n",
       "        vertical-align: top;\n",
       "    }\n",
       "\n",
       "    .dataframe thead th {\n",
       "        text-align: right;\n",
       "    }\n",
       "</style>\n",
       "<table border=\"1\" class=\"dataframe\">\n",
       "  <thead>\n",
       "    <tr style=\"text-align: right;\">\n",
       "      <th></th>\n",
       "      <th>review</th>\n",
       "      <th>rating</th>\n",
       "      <th>label</th>\n",
       "    </tr>\n",
       "  </thead>\n",
       "  <tbody>\n",
       "    <tr>\n",
       "      <th>5</th>\n",
       "      <td>Please don't buy this book this is very cheap ...</td>\n",
       "      <td>1</td>\n",
       "      <td>Terrible</td>\n",
       "    </tr>\n",
       "    <tr>\n",
       "      <th>6</th>\n",
       "      <td>This book is not the original version. The con...</td>\n",
       "      <td>1</td>\n",
       "      <td>Terrible</td>\n",
       "    </tr>\n",
       "    <tr>\n",
       "      <th>7</th>\n",
       "      <td>Quality of paper is poor</td>\n",
       "      <td>1</td>\n",
       "      <td>Terrible</td>\n",
       "    </tr>\n",
       "    <tr>\n",
       "      <th>8</th>\n",
       "      <td>Pages come out like hell</td>\n",
       "      <td>1</td>\n",
       "      <td>Terrible</td>\n",
       "    </tr>\n",
       "    <tr>\n",
       "      <th>9</th>\n",
       "      <td>Paper quality is very low 😭😭</td>\n",
       "      <td>1</td>\n",
       "      <td>Terrible</td>\n",
       "    </tr>\n",
       "  </tbody>\n",
       "</table>\n",
       "</div>"
      ],
      "text/plain": [
       "                                              review  rating     label\n",
       "5  Please don't buy this book this is very cheap ...       1  Terrible\n",
       "6  This book is not the original version. The con...       1  Terrible\n",
       "7                           Quality of paper is poor       1  Terrible\n",
       "8                           Pages come out like hell       1  Terrible\n",
       "9                       Paper quality is very low 😭😭       1  Terrible"
      ]
     },
     "execution_count": 280,
     "metadata": {},
     "output_type": "execute_result"
    }
   ],
   "source": [
    "# analysing first 5 reviews\n",
    "predSamp = pred[5:10].T\n",
    "data[['review','rating','label']][5:10]"
   ]
  },
  {
   "cell_type": "code",
   "execution_count": 281,
   "id": "271d5a68",
   "metadata": {},
   "outputs": [
    {
     "data": {
      "image/png": "[encoded data removed]",
      "text/plain": [
       "<Figure size 1500x700 with 1 Axes>"
      ]
     },
     "metadata": {},
     "output_type": "display_data"
    }
   ],
   "source": [
    "plt.figure(figsize=(15,7))\n",
    "for i in range(predSamp.shape[-1]):\n",
    "    color = ['red','green','blue','red','green']\n",
    "    diff = [-0.1,0.2,0.0,-0.2,0.1]\n",
    "    alpha = [0.3,0.6,0.3,0.5,0.3]\n",
    "    w = 0.1\n",
    "    for j in range(5):\n",
    "        plt.bar(i+diff[j],predSamp[j][i],width=w,color=color[j],alpha=alpha[j])\n",
    "plt.legend(target.columns)\n",
    "plt.title('Visualizing sentiments')\n",
    "plt.xlabel('Nth review')\n",
    "plt.show()"
   ]
  },
  {
   "cell_type": "markdown",
   "id": "2f96eb98",
   "metadata": {},
   "source": [
    "## Built NN with 94.72 % accuracy to perform emotion mining on flipkart book reviews"
   ]
  },
  {
   "cell_type": "code",
   "execution_count": null,
   "id": "08658a96",
   "metadata": {},
   "outputs": [],
   "source": []
  }
 ],
 "metadata": {
  "kernelspec": {
   "display_name": "Python 3 (ipykernel)",
   "language": "python",
   "name": "python3"
  },
  "language_info": {
   "codemirror_mode": {
    "name": "ipython",
    "version": 3
   },
   "file_extension": ".py",
   "mimetype": "text/x-python",
   "name": "python",
   "nbconvert_exporter": "python",
   "pygments_lexer": "ipython3",
   "version": "3.10.6"
  }
 },
 "nbformat": 4,
 "nbformat_minor": 5
}
