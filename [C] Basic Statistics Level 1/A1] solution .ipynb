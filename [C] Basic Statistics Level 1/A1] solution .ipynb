{
 "cells": [
  {
   "cell_type": "code",
   "execution_count": 1,
   "id": "213117d7",
   "metadata": {},
   "outputs": [],
   "source": [
    "import matplotlib.pyplot as plt\n",
    "import scipy.stats as stats\n",
    "import pandas as pd\n",
    "import numpy as np "
   ]
  },
  {
   "cell_type": "markdown",
   "id": "f85a815a",
   "metadata": {},
   "source": [
    "# Q 7] Calculate Mean, Median, Mode, Variance, Standard Deviation & Range "
   ]
  },
  {
   "cell_type": "code",
   "execution_count": 17,
   "id": "7a282dd1",
   "metadata": {},
   "outputs": [
    {
     "data": {
      "text/html": [
       "<div>\n",
       "<style scoped>\n",
       "    .dataframe tbody tr th:only-of-type {\n",
       "        vertical-align: middle;\n",
       "    }\n",
       "\n",
       "    .dataframe tbody tr th {\n",
       "        vertical-align: top;\n",
       "    }\n",
       "\n",
       "    .dataframe thead th {\n",
       "        text-align: right;\n",
       "    }\n",
       "</style>\n",
       "<table border=\"1\" class=\"dataframe\">\n",
       "  <thead>\n",
       "    <tr style=\"text-align: right;\">\n",
       "      <th></th>\n",
       "      <th>Moments</th>\n",
       "      <th>Points</th>\n",
       "      <th>Score</th>\n",
       "      <th>Weigh</th>\n",
       "    </tr>\n",
       "  </thead>\n",
       "  <tbody>\n",
       "    <tr>\n",
       "      <th>0</th>\n",
       "      <td>Mean</td>\n",
       "      <td>3.596563</td>\n",
       "      <td>3.217250</td>\n",
       "      <td>17.848750</td>\n",
       "    </tr>\n",
       "    <tr>\n",
       "      <th>1</th>\n",
       "      <td>Median</td>\n",
       "      <td>3.695000</td>\n",
       "      <td>3.325000</td>\n",
       "      <td>17.710000</td>\n",
       "    </tr>\n",
       "    <tr>\n",
       "      <th>2</th>\n",
       "      <td>Mode</td>\n",
       "      <td>3.070000</td>\n",
       "      <td>3.440000</td>\n",
       "      <td>17.020000</td>\n",
       "    </tr>\n",
       "    <tr>\n",
       "      <th>3</th>\n",
       "      <td>Variance</td>\n",
       "      <td>0.285881</td>\n",
       "      <td>0.957379</td>\n",
       "      <td>3.193166</td>\n",
       "    </tr>\n",
       "    <tr>\n",
       "      <th>4</th>\n",
       "      <td>Standard Dev</td>\n",
       "      <td>0.534679</td>\n",
       "      <td>0.978457</td>\n",
       "      <td>1.786943</td>\n",
       "    </tr>\n",
       "    <tr>\n",
       "      <th>5</th>\n",
       "      <td>Range</td>\n",
       "      <td>2.170000</td>\n",
       "      <td>3.911000</td>\n",
       "      <td>8.400000</td>\n",
       "    </tr>\n",
       "  </tbody>\n",
       "</table>\n",
       "</div>"
      ],
      "text/plain": [
       "        Moments    Points     Score      Weigh\n",
       "0          Mean  3.596563  3.217250  17.848750\n",
       "1        Median  3.695000  3.325000  17.710000\n",
       "2          Mode  3.070000  3.440000  17.020000\n",
       "3      Variance  0.285881  0.957379   3.193166\n",
       "4  Standard Dev  0.534679  0.978457   1.786943\n",
       "5         Range  2.170000  3.911000   8.400000"
      ]
     },
     "execution_count": 17,
     "metadata": {},
     "output_type": "execute_result"
    }
   ],
   "source": [
    "data = pd.read_csv('Q7.csv')\n",
    "data.drop('Unnamed: 0',axis=1,inplace=True)\n",
    "\n",
    "moments = pd.DataFrame([data.mean().values,\n",
    "                        data.median().values,\n",
    "                        data.mode().values[0],\n",
    "                        data.var().values,\n",
    "                        data.std().values,\n",
    "                        (data.max()-data.min()).values],\n",
    "                        columns=data.columns)\n",
    "moments.insert(0,column='Moments',value=np.array(['Mean',\n",
    "                                                  'Median',\n",
    "                                                  'Mode',\n",
    "                                                  'Variance',\n",
    "                                                  'Standard Dev',\n",
    "                                                  'Range']).reshape(6,1))\n",
    "moments"
   ]
  },
  {
   "cell_type": "code",
   "execution_count": null,
   "id": "0ccc0032",
   "metadata": {},
   "outputs": [],
   "source": []
  },
  {
   "cell_type": "markdown",
   "id": "f1eb6b16",
   "metadata": {},
   "source": [
    "# Q 9] Calculate Skewness, Kurtosis "
   ]
  },
  {
   "cell_type": "markdown",
   "id": "fc474bf6",
   "metadata": {},
   "source": [
    "### Q9 A]"
   ]
  },
  {
   "cell_type": "code",
   "execution_count": 23,
   "id": "569cc148",
   "metadata": {},
   "outputs": [
    {
     "data": {
      "text/html": [
       "<div>\n",
       "<style scoped>\n",
       "    .dataframe tbody tr th:only-of-type {\n",
       "        vertical-align: middle;\n",
       "    }\n",
       "\n",
       "    .dataframe tbody tr th {\n",
       "        vertical-align: top;\n",
       "    }\n",
       "\n",
       "    .dataframe thead th {\n",
       "        text-align: right;\n",
       "    }\n",
       "</style>\n",
       "<table border=\"1\" class=\"dataframe\">\n",
       "  <thead>\n",
       "    <tr style=\"text-align: right;\">\n",
       "      <th></th>\n",
       "      <th>Moments</th>\n",
       "      <th>speed</th>\n",
       "      <th>dist</th>\n",
       "    </tr>\n",
       "  </thead>\n",
       "  <tbody>\n",
       "    <tr>\n",
       "      <th>0</th>\n",
       "      <td>Skew</td>\n",
       "      <td>-0.117510</td>\n",
       "      <td>0.806895</td>\n",
       "    </tr>\n",
       "    <tr>\n",
       "      <th>1</th>\n",
       "      <td>Kurtosis</td>\n",
       "      <td>-0.508994</td>\n",
       "      <td>0.405053</td>\n",
       "    </tr>\n",
       "  </tbody>\n",
       "</table>\n",
       "</div>"
      ],
      "text/plain": [
       "    Moments     speed      dist\n",
       "0      Skew -0.117510  0.806895\n",
       "1  Kurtosis -0.508994  0.405053"
      ]
     },
     "execution_count": 23,
     "metadata": {},
     "output_type": "execute_result"
    }
   ],
   "source": [
    "data = pd.read_csv('Q9_a.csv')\n",
    "data.drop('Index',axis=1,inplace=True)\n",
    "moments = pd.DataFrame([data.skew().values,\n",
    "                        data.kurt().values],\n",
    "                        columns = data.columns)\n",
    "moments.insert(0,column='Moments',value=np.array(['Skew',\n",
    "                                                  'Kurtosis']).reshape(2,1))\n",
    "moments"
   ]
  },
  {
   "cell_type": "markdown",
   "id": "140df329",
   "metadata": {},
   "source": [
    "### Q9 B]"
   ]
  },
  {
   "cell_type": "code",
   "execution_count": 24,
   "id": "26b29c9a",
   "metadata": {},
   "outputs": [
    {
     "data": {
      "text/html": [
       "<div>\n",
       "<style scoped>\n",
       "    .dataframe tbody tr th:only-of-type {\n",
       "        vertical-align: middle;\n",
       "    }\n",
       "\n",
       "    .dataframe tbody tr th {\n",
       "        vertical-align: top;\n",
       "    }\n",
       "\n",
       "    .dataframe thead th {\n",
       "        text-align: right;\n",
       "    }\n",
       "</style>\n",
       "<table border=\"1\" class=\"dataframe\">\n",
       "  <thead>\n",
       "    <tr style=\"text-align: right;\">\n",
       "      <th></th>\n",
       "      <th>Moments</th>\n",
       "      <th>SP</th>\n",
       "      <th>WT</th>\n",
       "    </tr>\n",
       "  </thead>\n",
       "  <tbody>\n",
       "    <tr>\n",
       "      <th>0</th>\n",
       "      <td>Skew</td>\n",
       "      <td>1.611450</td>\n",
       "      <td>-0.614753</td>\n",
       "    </tr>\n",
       "    <tr>\n",
       "      <th>1</th>\n",
       "      <td>Kurtosis</td>\n",
       "      <td>2.977329</td>\n",
       "      <td>0.950291</td>\n",
       "    </tr>\n",
       "  </tbody>\n",
       "</table>\n",
       "</div>"
      ],
      "text/plain": [
       "    Moments        SP        WT\n",
       "0      Skew  1.611450 -0.614753\n",
       "1  Kurtosis  2.977329  0.950291"
      ]
     },
     "execution_count": 24,
     "metadata": {},
     "output_type": "execute_result"
    }
   ],
   "source": [
    "data = pd.read_csv('Q9_b.csv')\n",
    "data.drop('Unnamed: 0',axis=1,inplace=True)\n",
    "moments = pd.DataFrame([data.skew().values,\n",
    "                        data.kurt().values],\n",
    "                        columns = data.columns)\n",
    "moments.insert(0,column='Moments',value=np.array(['Skew',\n",
    "                                                  'Kurtosis']).reshape(2,1))\n",
    "moments"
   ]
  },
  {
   "cell_type": "markdown",
   "id": "745275ad",
   "metadata": {},
   "source": [
    "# Q 11] Calculate 94%,98%,96% confidence interval"
   ]
  },
  {
   "cell_type": "code",
   "execution_count": 49,
   "id": "514571e6",
   "metadata": {},
   "outputs": [
    {
     "data": {
      "text/html": [
       "<div>\n",
       "<style scoped>\n",
       "    .dataframe tbody tr th:only-of-type {\n",
       "        vertical-align: middle;\n",
       "    }\n",
       "\n",
       "    .dataframe tbody tr th {\n",
       "        vertical-align: top;\n",
       "    }\n",
       "\n",
       "    .dataframe thead th {\n",
       "        text-align: right;\n",
       "    }\n",
       "</style>\n",
       "<table border=\"1\" class=\"dataframe\">\n",
       "  <thead>\n",
       "    <tr style=\"text-align: right;\">\n",
       "      <th></th>\n",
       "      <th>Cofidence interval</th>\n",
       "      <th>Start point</th>\n",
       "      <th>End point</th>\n",
       "    </tr>\n",
       "  </thead>\n",
       "  <tbody>\n",
       "    <tr>\n",
       "      <th>0</th>\n",
       "      <td>94</td>\n",
       "      <td>143.576192</td>\n",
       "      <td>256.423808</td>\n",
       "    </tr>\n",
       "    <tr>\n",
       "      <th>1</th>\n",
       "      <td>98</td>\n",
       "      <td>130.209564</td>\n",
       "      <td>269.790436</td>\n",
       "    </tr>\n",
       "    <tr>\n",
       "      <th>2</th>\n",
       "      <td>96</td>\n",
       "      <td>138.387533</td>\n",
       "      <td>261.612467</td>\n",
       "    </tr>\n",
       "  </tbody>\n",
       "</table>\n",
       "</div>"
      ],
      "text/plain": [
       "   Cofidence interval  Start point   End point\n",
       "0                  94   143.576192  256.423808\n",
       "1                  98   130.209564  269.790436\n",
       "2                  96   138.387533  261.612467"
      ]
     },
     "execution_count": 49,
     "metadata": {},
     "output_type": "execute_result"
    }
   ],
   "source": [
    "def CI(ci):\n",
    "    # since sample size > 30, using stats.norm for CI calculations.\n",
    "    return stats.norm.interval(confidence=round(ci/100,2),loc=mean,scale=std)\n",
    "ci = [94,98,96]\n",
    "mean = 200\n",
    "std = 30\n",
    "confidenceInterval = pd.DataFrame([[x]+list(CI(x)) for x in ci],\n",
    "                                columns=['Cofidence interval',\n",
    "                                         'Start point',\n",
    "                                         'End point'])\n",
    "confidenceInterval"
   ]
  },
  {
   "cell_type": "markdown",
   "id": "3af1966e",
   "metadata": {},
   "source": [
    "# Q 12] 1)\tFind mean, median, variance, standard deviation"
   ]
  },
  {
   "cell_type": "code",
   "execution_count": 36,
   "id": "7f2ea341",
   "metadata": {},
   "outputs": [
    {
     "data": {
      "text/html": [
       "<div>\n",
       "<style scoped>\n",
       "    .dataframe tbody tr th:only-of-type {\n",
       "        vertical-align: middle;\n",
       "    }\n",
       "\n",
       "    .dataframe tbody tr th {\n",
       "        vertical-align: top;\n",
       "    }\n",
       "\n",
       "    .dataframe thead th {\n",
       "        text-align: right;\n",
       "    }\n",
       "</style>\n",
       "<table border=\"1\" class=\"dataframe\">\n",
       "  <thead>\n",
       "    <tr style=\"text-align: right;\">\n",
       "      <th></th>\n",
       "      <th>moments</th>\n",
       "      <th>values</th>\n",
       "    </tr>\n",
       "  </thead>\n",
       "  <tbody>\n",
       "    <tr>\n",
       "      <th>0</th>\n",
       "      <td>Mean</td>\n",
       "      <td>41.00</td>\n",
       "    </tr>\n",
       "    <tr>\n",
       "      <th>1</th>\n",
       "      <td>Median</td>\n",
       "      <td>40.50</td>\n",
       "    </tr>\n",
       "    <tr>\n",
       "      <th>2</th>\n",
       "      <td>Variance</td>\n",
       "      <td>24.11</td>\n",
       "    </tr>\n",
       "    <tr>\n",
       "      <th>3</th>\n",
       "      <td>Standard Deviation</td>\n",
       "      <td>4.91</td>\n",
       "    </tr>\n",
       "  </tbody>\n",
       "</table>\n",
       "</div>"
      ],
      "text/plain": [
       "              moments  values\n",
       "0                Mean   41.00\n",
       "1              Median   40.50\n",
       "2            Variance   24.11\n",
       "3  Standard Deviation    4.91"
      ]
     },
     "execution_count": 36,
     "metadata": {},
     "output_type": "execute_result"
    }
   ],
   "source": [
    "calc = [['Mean',np.mean],\n",
    "        ['Median',np.median],\n",
    "        ['Variance',np.var],\n",
    "        ['Standard Deviation',np.std]]\n",
    "scores = np.array([34,36,36,38,38,39,39,40,40,41,41,41,41,42,42,45,49,56])\n",
    "moments = pd.DataFrame([[x[0],round(x[1](scores),2)] for x in calc],\n",
    "                      columns=['moments','values'])\n",
    "moments"
   ]
  },
  {
   "cell_type": "markdown",
   "id": "4d27c55d",
   "metadata": {},
   "source": [
    "# Q 20) Calculate the probability of MPG  of Cars for the below cases."
   ]
  },
  {
   "cell_type": "code",
   "execution_count": 80,
   "id": "f3dc33f3",
   "metadata": {},
   "outputs": [
    {
     "data": {
      "text/html": [
       "<div>\n",
       "<style scoped>\n",
       "    .dataframe tbody tr th:only-of-type {\n",
       "        vertical-align: middle;\n",
       "    }\n",
       "\n",
       "    .dataframe tbody tr th {\n",
       "        vertical-align: top;\n",
       "    }\n",
       "\n",
       "    .dataframe thead th {\n",
       "        text-align: right;\n",
       "    }\n",
       "</style>\n",
       "<table border=\"1\" class=\"dataframe\">\n",
       "  <thead>\n",
       "    <tr style=\"text-align: right;\">\n",
       "      <th></th>\n",
       "      <th>condition</th>\n",
       "      <th>Probablity</th>\n",
       "    </tr>\n",
       "  </thead>\n",
       "  <tbody>\n",
       "    <tr>\n",
       "      <th>0</th>\n",
       "      <td>P(MPG) &gt; 38</td>\n",
       "      <td>0.347594</td>\n",
       "    </tr>\n",
       "    <tr>\n",
       "      <th>1</th>\n",
       "      <td>P(MPG) &lt; 40</td>\n",
       "      <td>0.729350</td>\n",
       "    </tr>\n",
       "    <tr>\n",
       "      <th>2</th>\n",
       "      <td>P(20&lt;MPG&lt;50)</td>\n",
       "      <td>0.898869</td>\n",
       "    </tr>\n",
       "  </tbody>\n",
       "</table>\n",
       "</div>"
      ],
      "text/plain": [
       "      condition  Probablity\n",
       "0   P(MPG) > 38    0.347594\n",
       "1   P(MPG) < 40    0.729350\n",
       "2  P(20<MPG<50)    0.898869"
      ]
     },
     "execution_count": 80,
     "metadata": {},
     "output_type": "execute_result"
    }
   ],
   "source": [
    "cars = pd.read_csv('Cars.csv')\n",
    "\n",
    "def cdf(x):\n",
    "    return stats.norm.cdf(x,loc=cars.describe().loc['mean']['MPG'],\n",
    "                          scale=cars.describe().loc['std']['MPG'])\n",
    "prob = pd.DataFrame([['P(MPG) > 38',1-cdf(38)],\n",
    "                     ['P(MPG) < 40',cdf(40)],\n",
    "                     ['P(20<MPG<50)',cdf(50)-cdf(20)]],\n",
    "                     columns=['condition','Probablity'])\n",
    "prob"
   ]
  },
  {
   "cell_type": "markdown",
   "id": "332f0ddf",
   "metadata": {},
   "source": [
    "# Q 21] Check whether the data follows normal distribution"
   ]
  },
  {
   "cell_type": "markdown",
   "id": "b2baf5dd",
   "metadata": {},
   "source": [
    "### Q 21] a] Check whether the MPG of Cars follows Normal Distribution "
   ]
  },
  {
   "cell_type": "code",
   "execution_count": 151,
   "id": "c785c74b",
   "metadata": {},
   "outputs": [
    {
     "data": {
      "image/png": "[encoded data removed]",
      "text/plain": [
       "<Figure size 700x400 with 1 Axes>"
      ]
     },
     "metadata": {},
     "output_type": "display_data"
    }
   ],
   "source": [
    "cars = pd.read_csv('Cars.csv')\n",
    "\n",
    "mpg = cars.MPG\n",
    "plt.figure(figsize=(7,4))\n",
    "mpg.plot(kind='kde')\n",
    "plt.figtext(0.7,0.8,f'skewness : {round(mpg.skew(),2)}')\n",
    "plt.title('MPG')\n",
    "plt.show()\n",
    "# it can be inferred from visual\n",
    "# as well as statical inspection\n",
    "# that MPG dataset indeed \n",
    "# follows normal distribution"
   ]
  },
  {
   "cell_type": "markdown",
   "id": "12c59593",
   "metadata": {},
   "source": [
    "### Q 21] b]  Check Whether the Adipose Tissue (AT) and Waist Circumference(Waist)  from wc-at data set  follows Normal Distribution"
   ]
  },
  {
   "cell_type": "code",
   "execution_count": 154,
   "id": "393d4e05",
   "metadata": {},
   "outputs": [],
   "source": [
    "data = pd.read_csv('wc-at.csv')"
   ]
  },
  {
   "cell_type": "code",
   "execution_count": 152,
   "id": "e57e3354",
   "metadata": {},
   "outputs": [
    {
     "data": {
      "image/png": "[encoded data removed]",
      "text/plain": [
       "<Figure size 700x400 with 1 Axes>"
      ]
     },
     "metadata": {},
     "output_type": "display_data"
    }
   ],
   "source": [
    "at = data.AT\n",
    "plt.figure(figsize=(7,4))\n",
    "mpg.plot(kind='kde')\n",
    "plt.figtext(0.7,0.8,f'skewness : {round(at.skew(),2)}')\n",
    "plt.title('Adipose Tissue')\n",
    "plt.show()\n",
    "# it can be inferred from visual\n",
    "# as well as statical inspection\n",
    "# that Adipose tissue dataset indeed \n",
    "# follows normal distribution"
   ]
  },
  {
   "cell_type": "code",
   "execution_count": 153,
   "id": "3c2283cd",
   "metadata": {},
   "outputs": [
    {
     "data": {
      "image/png": "[encoded data removed]",
      "text/plain": [
       "<Figure size 700x400 with 1 Axes>"
      ]
     },
     "metadata": {},
     "output_type": "display_data"
    }
   ],
   "source": [
    "waist = data.Waist\n",
    "plt.figure(figsize=(7,4))\n",
    "mpg.plot(kind='kde')\n",
    "plt.figtext(0.7,0.8,f'skewness : {round(waist.skew(),2)}')\n",
    "plt.title('Waist Circumference')\n",
    "plt.show()\n",
    "# it can be inferred from visual\n",
    "# as well as statical inspection\n",
    "# that Waist Circumference dataset indeed \n",
    "# follows normal distribution"
   ]
  },
  {
   "cell_type": "code",
   "execution_count": null,
   "id": "066f9b82",
   "metadata": {},
   "outputs": [],
   "source": []
  },
  {
   "cell_type": "markdown",
   "id": "8ce0d3d0",
   "metadata": {},
   "source": [
    "# Q 22 ] Calculate the Z scores of  90%,94% & 60% confidence interval "
   ]
  },
  {
   "cell_type": "code",
   "execution_count": 11,
   "id": "9de4aaf1",
   "metadata": {},
   "outputs": [
    {
     "data": {
      "text/html": [
       "<div>\n",
       "<style scoped>\n",
       "    .dataframe tbody tr th:only-of-type {\n",
       "        vertical-align: middle;\n",
       "    }\n",
       "\n",
       "    .dataframe tbody tr th {\n",
       "        vertical-align: top;\n",
       "    }\n",
       "\n",
       "    .dataframe thead th {\n",
       "        text-align: right;\n",
       "    }\n",
       "</style>\n",
       "<table border=\"1\" class=\"dataframe\">\n",
       "  <thead>\n",
       "    <tr style=\"text-align: right;\">\n",
       "      <th></th>\n",
       "      <th>CI</th>\n",
       "      <th>Z-Score</th>\n",
       "    </tr>\n",
       "  </thead>\n",
       "  <tbody>\n",
       "    <tr>\n",
       "      <th>0</th>\n",
       "      <td>60</td>\n",
       "      <td>0.84</td>\n",
       "    </tr>\n",
       "    <tr>\n",
       "      <th>1</th>\n",
       "      <td>95</td>\n",
       "      <td>1.96</td>\n",
       "    </tr>\n",
       "    <tr>\n",
       "      <th>2</th>\n",
       "      <td>96</td>\n",
       "      <td>2.05</td>\n",
       "    </tr>\n",
       "  </tbody>\n",
       "</table>\n",
       "</div>"
      ],
      "text/plain": [
       "   CI  Z-Score\n",
       "0  60     0.84\n",
       "1  95     1.96\n",
       "2  96     2.05"
      ]
     },
     "execution_count": 11,
     "metadata": {},
     "output_type": "execute_result"
    }
   ],
   "source": [
    "def zScore(cl):\n",
    "    return round(stats.norm.ppf((1+cl/100)/2),2)\n",
    "CI = [60,95,96]\n",
    "zscore = pd.DataFrame([[x, zScore(x)] for x in CI],\n",
    "                      columns=['CI','Z-Score'])\n",
    "zscore"
   ]
  },
  {
   "cell_type": "markdown",
   "id": "d389b3f0",
   "metadata": {},
   "source": [
    "# Q 23 ] Calculate the T scores of  90%,94% & 60% confidence interval "
   ]
  },
  {
   "cell_type": "code",
   "execution_count": 39,
   "id": "fb67e621",
   "metadata": {},
   "outputs": [
    {
     "data": {
      "text/html": [
       "<div>\n",
       "<style scoped>\n",
       "    .dataframe tbody tr th:only-of-type {\n",
       "        vertical-align: middle;\n",
       "    }\n",
       "\n",
       "    .dataframe tbody tr th {\n",
       "        vertical-align: top;\n",
       "    }\n",
       "\n",
       "    .dataframe thead th {\n",
       "        text-align: right;\n",
       "    }\n",
       "</style>\n",
       "<table border=\"1\" class=\"dataframe\">\n",
       "  <thead>\n",
       "    <tr style=\"text-align: right;\">\n",
       "      <th></th>\n",
       "      <th>CI</th>\n",
       "      <th>T-Score for N = 25</th>\n",
       "    </tr>\n",
       "  </thead>\n",
       "  <tbody>\n",
       "    <tr>\n",
       "      <th>0</th>\n",
       "      <td>95</td>\n",
       "      <td>2.06</td>\n",
       "    </tr>\n",
       "    <tr>\n",
       "      <th>1</th>\n",
       "      <td>96</td>\n",
       "      <td>2.17</td>\n",
       "    </tr>\n",
       "    <tr>\n",
       "      <th>2</th>\n",
       "      <td>99</td>\n",
       "      <td>2.80</td>\n",
       "    </tr>\n",
       "  </tbody>\n",
       "</table>\n",
       "</div>"
      ],
      "text/plain": [
       "   CI  T-Score for N = 25\n",
       "0  95                2.06\n",
       "1  96                2.17\n",
       "2  99                2.80"
      ]
     },
     "execution_count": 39,
     "metadata": {},
     "output_type": "execute_result"
    }
   ],
   "source": [
    "sampleSize = 25\n",
    "CI = [95,96,99]\n",
    "def tScore(cl):\n",
    "    global sampleSize\n",
    "    return round(stats.t.ppf((1+cl/100)/2,df = sampleSize-1),2)\n",
    "tscore = pd.DataFrame([[x, tScore(x)] for x in CI],\n",
    "                      columns=['CI',f'T-Score for N = {sampleSize}'])\n",
    "tscore"
   ]
  },
  {
   "cell_type": "markdown",
   "id": "57bc10d5",
   "metadata": {},
   "source": [
    "# Q 24] probability that 18 randomly selected bulbs would have an average life of no more than 260 days"
   ]
  },
  {
   "cell_type": "code",
   "execution_count": 55,
   "id": "7da4bcc9",
   "metadata": {},
   "outputs": [
    {
     "data": {
      "text/html": [
       "<div>\n",
       "<style scoped>\n",
       "    .dataframe tbody tr th:only-of-type {\n",
       "        vertical-align: middle;\n",
       "    }\n",
       "\n",
       "    .dataframe tbody tr th {\n",
       "        vertical-align: top;\n",
       "    }\n",
       "\n",
       "    .dataframe thead th {\n",
       "        text-align: right;\n",
       "    }\n",
       "</style>\n",
       "<table border=\"1\" class=\"dataframe\">\n",
       "  <thead>\n",
       "    <tr style=\"text-align: right;\">\n",
       "      <th></th>\n",
       "      <th>condition</th>\n",
       "      <th>Probability</th>\n",
       "    </tr>\n",
       "  </thead>\n",
       "  <tbody>\n",
       "    <tr>\n",
       "      <th>0</th>\n",
       "      <td>P(aveLife &lt;= 260)</td>\n",
       "      <td>0.9949</td>\n",
       "    </tr>\n",
       "  </tbody>\n",
       "</table>\n",
       "</div>"
      ],
      "text/plain": [
       "           condition  Probability\n",
       "0  P(aveLife <= 260)       0.9949"
      ]
     },
     "execution_count": 55,
     "metadata": {},
     "output_type": "execute_result"
    }
   ],
   "source": [
    "sampleSize = 18\n",
    "xBar = 260\n",
    "S = 90\n",
    "prob = pd.DataFrame([['P(aveLife <= 260)',\n",
    "                     stats.t.cdf(xBar,df=sampleSize-1,scale=S)]],\n",
    "                   columns=['condition','Probability'])\n",
    "prob"
   ]
  },
  {
   "cell_type": "code",
   "execution_count": null,
   "id": "fd13564d",
   "metadata": {},
   "outputs": [],
   "source": []
  },
  {
   "cell_type": "code",
   "execution_count": null,
   "id": "e22485a1",
   "metadata": {},
   "outputs": [],
   "source": []
  },
  {
   "cell_type": "code",
   "execution_count": null,
   "id": "68492015",
   "metadata": {},
   "outputs": [],
   "source": []
  },
  {
   "cell_type": "code",
   "execution_count": null,
   "id": "ce4c61d3",
   "metadata": {},
   "outputs": [],
   "source": []
  }
 ],
 "metadata": {
  "kernelspec": {
   "display_name": "Python 3 (ipykernel)",
   "language": "python",
   "name": "python3"
  },
  "language_info": {
   "codemirror_mode": {
    "name": "ipython",
    "version": 3
   },
   "file_extension": ".py",
   "mimetype": "text/x-python",
   "name": "python",
   "nbconvert_exporter": "python",
   "pygments_lexer": "ipython3",
   "version": "3.10.6"
  }
 },
 "nbformat": 4,
 "nbformat_minor": 5
}
