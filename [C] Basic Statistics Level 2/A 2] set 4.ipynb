{
 "cells": [
  {
   "cell_type": "code",
   "execution_count": 55,
   "id": "103656f7",
   "metadata": {},
   "outputs": [],
   "source": [
    "from scipy.stats import norm\n",
    "from scipy import stats \n",
    "import pandas as pd \n",
    "import numpy as np "
   ]
  },
  {
   "cell_type": "markdown",
   "id": "a5082b35",
   "metadata": {},
   "source": [
    "# Q 3] probability that in any given week, there will be an investigation?"
   ]
  },
  {
   "cell_type": "code",
   "execution_count": 56,
   "id": "4d232bfd",
   "metadata": {},
   "outputs": [
    {
     "name": "stdout",
     "output_type": "stream",
     "text": [
      "probability that there will be an investigation is 21.1 %\n"
     ]
    }
   ],
   "source": [
    "n = 100\n",
    "mu = 50\n",
    "sigma = 40\n",
    "stdError = sigma/(n**0.5)\n",
    "# probability that there will be an investigation\n",
    "Inv = round((1-norm.cdf(55,loc=mu,scale=stdError)+norm.cdf(45,loc=mu,scale=stdError))*100,1)\n",
    "print(f'probability that there will be an investigation is {Inv} %')"
   ]
  },
  {
   "cell_type": "markdown",
   "id": "f79b07fc",
   "metadata": {},
   "source": [
    "# Q 4] minimum number transactions that they should sample "
   ]
  },
  {
   "cell_type": "code",
   "execution_count": 71,
   "id": "864f2e9a",
   "metadata": {},
   "outputs": [
    {
     "name": "stdout",
     "output_type": "stream",
     "text": [
      "sample size required to maintain the probability of investigation to 5% is approx. 246\n",
      "probability of investigation 100.0 %\n"
     ]
    }
   ],
   "source": [
    "def getN(z):\n",
    "    sigma = 40\n",
    "    x = 55\n",
    "    mu = 50\n",
    "    return (z*sigma/(x-mu))**2 \n",
    "# sample size required to maintain the probability of investigation to 5%. \n",
    "newN = getN(norm.interval(0.95)[1])\n",
    "print(f'sample size required to maintain the probability of investigation to 5% is approx. {round(newN)}')\n",
    "# proof \n",
    "stdE = sigma/(newN**0.5)\n",
    "Inv = round((1-norm.cdf(55,loc=mu,scale=stdE)+norm.cdf(45,loc=mu,scale=stdE))*100,1)\n",
    "print(f'probability of investigation {Inv} %')"
   ]
  },
  {
   "cell_type": "code",
   "execution_count": null,
   "id": "02b854c3",
   "metadata": {},
   "outputs": [],
   "source": []
  }
 ],
 "metadata": {
  "kernelspec": {
   "display_name": "Python 3 (ipykernel)",
   "language": "python",
   "name": "python3"
  },
  "language_info": {
   "codemirror_mode": {
    "name": "ipython",
    "version": 3
   },
   "file_extension": ".py",
   "mimetype": "text/x-python",
   "name": "python",
   "nbconvert_exporter": "python",
   "pygments_lexer": "ipython3",
   "version": "3.10.6"
  }
 },
 "nbformat": 4,
 "nbformat_minor": 5
}
