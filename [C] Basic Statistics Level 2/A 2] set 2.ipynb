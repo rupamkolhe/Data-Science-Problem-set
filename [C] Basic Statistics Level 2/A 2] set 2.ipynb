{
 "cells": [
  {
   "cell_type": "code",
   "execution_count": 21,
   "id": "c20f13f7",
   "metadata": {},
   "outputs": [],
   "source": [
    "from scipy.stats import norm \n",
    "from scipy import stats \n",
    "import pandas as pd \n",
    "import numpy as np"
   ]
  },
  {
   "cell_type": "markdown",
   "id": "a7bb02fc",
   "metadata": {},
   "source": [
    "# Q 1] "
   ]
  },
  {
   "cell_type": "code",
   "execution_count": 2,
   "id": "3603d284",
   "metadata": {},
   "outputs": [
    {
     "name": "stdout",
     "output_type": "stream",
     "text": [
      "Probability of service manager not meeting his commitment 0.266\n"
     ]
    }
   ],
   "source": [
    "mu = 45\n",
    "sigma = 8\n",
    "x = 50\n",
    "print(f'Probability of service manager not meeting his commitment {round(1-norm.cdf(x,loc=mu,scale=sigma),3)}')"
   ]
  },
  {
   "cell_type": "markdown",
   "id": "15217d7d",
   "metadata": {},
   "source": [
    "### Probability of service manager not meeting his commitment 0.266"
   ]
  },
  {
   "cell_type": "markdown",
   "id": "c993626b",
   "metadata": {},
   "source": [
    "# Q 2] A]"
   ]
  },
  {
   "cell_type": "code",
   "execution_count": 3,
   "id": "f5d71890",
   "metadata": {},
   "outputs": [
    {
     "data": {
      "text/html": [
       "<div>\n",
       "<style scoped>\n",
       "    .dataframe tbody tr th:only-of-type {\n",
       "        vertical-align: middle;\n",
       "    }\n",
       "\n",
       "    .dataframe tbody tr th {\n",
       "        vertical-align: top;\n",
       "    }\n",
       "\n",
       "    .dataframe thead th {\n",
       "        text-align: right;\n",
       "    }\n",
       "</style>\n",
       "<table border=\"1\" class=\"dataframe\">\n",
       "  <thead>\n",
       "    <tr style=\"text-align: right;\">\n",
       "      <th></th>\n",
       "      <th>condition</th>\n",
       "      <th>Probabiliy</th>\n",
       "    </tr>\n",
       "  </thead>\n",
       "  <tbody>\n",
       "    <tr>\n",
       "      <th>0</th>\n",
       "      <td>P(age&gt;44)</td>\n",
       "      <td>0.158655</td>\n",
       "    </tr>\n",
       "    <tr>\n",
       "      <th>1</th>\n",
       "      <td>P(38&lt;age&lt;44)</td>\n",
       "      <td>0.341345</td>\n",
       "    </tr>\n",
       "  </tbody>\n",
       "</table>\n",
       "</div>"
      ],
      "text/plain": [
       "      condition  Probabiliy\n",
       "0     P(age>44)    0.158655\n",
       "1  P(38<age<44)    0.341345"
      ]
     },
     "execution_count": 3,
     "metadata": {},
     "output_type": "execute_result"
    }
   ],
   "source": [
    "mu = 38\n",
    "sigma = 6\n",
    "# probability that employees are older than 44 \n",
    "A = 1-norm.cdf(44,loc=mu,scale=sigma)\n",
    "# probability that age of employees is between 38 and 44\n",
    "B = norm.cdf(44,loc=mu,scale=sigma)-norm.cdf(38,loc=mu,scale=sigma)\n",
    "pd.DataFrame([['P(age>44)',A],\n",
    "              ['P(38<age<44)',B]],columns=['condition','Probabiliy'])"
   ]
  },
  {
   "cell_type": "markdown",
   "id": "9d59758f",
   "metadata": {},
   "source": [
    "# Q 2] B]"
   ]
  },
  {
   "cell_type": "code",
   "execution_count": 4,
   "id": "13d9eada",
   "metadata": {},
   "outputs": [
    {
     "name": "stdout",
     "output_type": "stream",
     "text": [
      "training program for employees under the age of 30 at the center would be expected to attract about 36 employees.\n"
     ]
    }
   ],
   "source": [
    "n = 400\n",
    "mu = 38\n",
    "sigma = 6\n",
    "# probability that age of employee is less than 30\n",
    "prob = norm.cdf(30,loc=mu,scale=sigma)\n",
    "# expected number of employees \n",
    "exp = round(prob*n)\n",
    "print(f'training program for employees under the age of 30 at the center would be expected to attract about {exp} employees.')"
   ]
  },
  {
   "cell_type": "markdown",
   "id": "d66918ad",
   "metadata": {},
   "source": [
    "# Q 4]"
   ]
  },
  {
   "cell_type": "code",
   "execution_count": 8,
   "id": "48b0b3ff",
   "metadata": {},
   "outputs": [
    {
     "name": "stdout",
     "output_type": "stream",
     "text": [
      "for [X ~ N(100, 202)] range where probability of random variable taking value is 0.99 is [48.5, 151.5]\n"
     ]
    }
   ],
   "source": [
    "confLevel = 0.99\n",
    "mu = 100\n",
    "sigma = 20\n",
    "# confidence interval for confidence level of 99 %\n",
    "r = norm.interval(confidence=confLevel,\n",
    "                  loc=mu,\n",
    "                  scale=sigma)\n",
    "print(f'for [X ~ N(100, 202)] range where probability of random variable taking value is 0.99 is [{round(r[0],1)}, {round(r[1],1)}]')"
   ]
  },
  {
   "cell_type": "markdown",
   "id": "3d986de3",
   "metadata": {},
   "source": [
    "# Q 5] A]"
   ]
  },
  {
   "cell_type": "code",
   "execution_count": 25,
   "id": "c795f4c5",
   "metadata": {},
   "outputs": [
    {
     "name": "stdout",
     "output_type": "stream",
     "text": [
      "Rupee range is from 306.65 million rupees to 773.35 million rupees\n"
     ]
    }
   ],
   "source": [
    "mu1 = 5\n",
    "var1 = 3\n",
    "mu2 = 7\n",
    "var2 = 4\n",
    "# variance of combined normal distributions of \n",
    "# profits from two 'independent' divisions \n",
    "combVar = var1 + var2 \n",
    "combSigma = combVar**0.5\n",
    "combMu = mu1 + mu2 \n",
    "confiLevel = 0.95\n",
    "# confidence interval for confidence level of 95 %\n",
    "r = norm.interval(confidence=confiLevel,\n",
    "                  loc=combMu,\n",
    "                  scale=combSigma)\n",
    "print(f'Rupee range is from {round(r[0]*45,2)} million rupees to {round(r[1]*45,2)} million rupees')"
   ]
  },
  {
   "cell_type": "markdown",
   "id": "b871cb4e",
   "metadata": {},
   "source": [
    "# Q 5] B]"
   ]
  },
  {
   "cell_type": "code",
   "execution_count": 35,
   "id": "ce5fa3c0",
   "metadata": {},
   "outputs": [
    {
     "name": "stdout",
     "output_type": "stream",
     "text": [
      "5th percentile profit for the company is 344.17 million rupees\n"
     ]
    }
   ],
   "source": [
    "# calculating 5th percentile \n",
    "fifthP = round(norm.ppf(0.05,loc=combMu,scale=combSigma)*45,2)\n",
    "print(f'5th percentile profit for the company is {fifthP} million rupees')"
   ]
  },
  {
   "cell_type": "markdown",
   "id": "527373e2",
   "metadata": {},
   "source": [
    "# Q 5] C]"
   ]
  },
  {
   "cell_type": "code",
   "execution_count": 20,
   "id": "6afa2eee",
   "metadata": {},
   "outputs": [
    {
     "name": "stdout",
     "output_type": "stream",
     "text": [
      "probability that division 1 will make loss is 0.001946208561389314\n",
      "probability that division 2 will make loss is 0.00023262907903552502\n"
     ]
    }
   ],
   "source": [
    "# probability that division 1 will make loss\n",
    "p1_loss = norm.cdf(0,loc=mu1,scale=var1**0.5)\n",
    "print(f'probability that division 1 will make loss is {p1_loss}')\n",
    "# probability that division 2 will make loss\n",
    "p2_loss = norm.cdf(0,loc=mu2,scale=var2**0.5)\n",
    "print(f'probability that division 2 will make loss is {p2_loss}')"
   ]
  }
 ],
 "metadata": {
  "kernelspec": {
   "display_name": "Python 3 (ipykernel)",
   "language": "python",
   "name": "python3"
  },
  "language_info": {
   "codemirror_mode": {
    "name": "ipython",
    "version": 3
   },
   "file_extension": ".py",
   "mimetype": "text/x-python",
   "name": "python",
   "nbconvert_exporter": "python",
   "pygments_lexer": "ipython3",
   "version": "3.10.6"
  }
 },
 "nbformat": 4,
 "nbformat_minor": 5
}
